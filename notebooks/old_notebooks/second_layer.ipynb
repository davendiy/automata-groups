{
 "cells": [
  {
   "cell_type": "code",
   "execution_count": 1,
   "metadata": {},
   "outputs": [
    {
     "name": "stdout",
     "output_type": "stream",
     "text": [
      "b = (0 2) (e, b, e)\n",
      "c = (2)(0 1) (e, e, c)\n",
      "ab = (0 1 2) (e, b, a)\n",
      "ac = (0 2 1) (e, a, c)\n",
      "bb = (2) (e, bb, e)\n",
      "bc = (0 1 2) (b, e, c)\n",
      "cb = (0 2 1) (c, b, e)\n",
      "cc = (2) (e, e, cc)\n",
      "aab = (0 2) (e, b, aa)\n",
      "aac = (2)(0 1) (e, aa, c)\n",
      "abc = (0 2) (b, e, ac)\n",
      "acb = (2)(0 1) (c, ab, e)\n",
      "bab = (2)(0 1) (b, b, a)\n",
      "bac = (1 2) (e, a, bc)\n",
      "bbb = (0 2) (e, bbb, e)\n",
      "bbc = (2)(0 1) (bb, e, c)\n",
      "bcb = (1 2) (c, b, b)\n",
      "bcc = (0 2) (e, b, cc)\n",
      "cab = (1 2) (e, cb, a)\n",
      "cac = (0 2) (c, a, c)\n",
      "cbb = (2)(0 1) (e, bb, c)\n",
      "cbc = (1 2) (b, c, c)\n",
      "ccb = (0 2) (cc, b, e)\n",
      "ccc = (2)(0 1) (e, e, ccc)\n",
      "aaab = (0 1 2) (e, b, aaa)\n",
      "aaac = (0 2 1) (e, aaa, c)\n",
      "aabc = (0 1 2) (b, e, aac)\n",
      "aacb = (0 2 1) (c, aab, e)\n",
      "abab = (0 2 1) (b, ab, a)\n",
      "abbb = (0 1 2) (e, bbb, a)\n",
      "abbc = (0 2 1) (bb, a, c)\n",
      "abcb = (2) (ac, b, b)\n",
      "abcc = (0 1 2) (e, b, acc)\n",
      "acac = (0 1 2) (c, a, ac)\n",
      "acbb = (0 2 1) (e, abb, c)\n",
      "acbc = (2) (ab, c, c)\n",
      "accb = (0 1 2) (cc, b, a)\n",
      "accc = (0 2 1) (e, a, ccc)\n",
      "baab = (2) (e, bb, aa)\n",
      "baac = (0 1 2) (b, aa, c)\n",
      "babc = (2) (b, b, ac)\n",
      "bbab = (0 1 2) (bb, b, a)\n",
      "bbac = (0 2 1) (e, a, bbc)\n",
      "bbbb = (2) (e, bbbb, e)\n",
      "bbbc = (0 1 2) (bbb, e, c)\n",
      "bbcb = (0 2 1) (c, b, bb)\n",
      "bbcc = (2) (e, bb, cc)\n",
      "bcab = (0 2 1) (e, cb, ba)\n",
      "bcac = (2) (c, ba, c)\n",
      "bcbb = (0 1 2) (b, bb, c)\n",
      "bcbc = (0 2 1) (b, c, bc)\n",
      "bccb = (2) (cc, bb, e)\n",
      "bccc = (0 1 2) (b, e, ccc)\n",
      "caab = (0 2 1) (c, b, aa)\n",
      "caac = (2) (e, aa, cc)\n",
      "cacb = (2) (c, ab, c)\n",
      "cbab = (2) (b, b, ca)\n",
      "cbac = (0 1 2) (e, ca, bc)\n",
      "cbbb = (0 2 1) (c, bbb, e)\n",
      "cbbc = (2) (bb, e, cc)\n",
      "cbcb = (0 1 2) (c, cb, b)\n",
      "cbcc = (0 2 1) (c, b, cc)\n",
      "ccab = (0 1 2) (e, ccb, a)\n",
      "ccac = (0 2 1) (cc, a, c)\n",
      "ccbb = (2) (e, bb, cc)\n",
      "ccbc = (0 1 2) (b, cc, c)\n",
      "cccb = (0 2 1) (ccc, b, e)\n",
      "cccc = (2) (e, e, cccc)\n",
      "44T(n-4, k-0)\n",
      "16T(n-3, k-0)\n",
      "6T(n-2, k-0)\n",
      "2T(n-1, k-0)\n"
     ]
    }
   ],
   "source": [
    "from src.source2 import *\n",
    "import matplotlib.pyplot as plt\n",
    "from itertools import product\n",
    "from collections import Counter\n",
    "\n",
    "res = []\n",
    "for n in range(1, 5):\n",
    "    for el in product('abc', repeat=n):\n",
    "        tmp = from_string(el)\n",
    "        if tmp[0][0].name == 'e':\n",
    "            print(tmp)\n",
    "            res.append((len(tmp.name), 0))\n",
    "            \n",
    "for el, amount in Counter(res).most_common():\n",
    "    print(f'{amount}T(n-{el[0]}, k-{el[1]})')"
   ]
  },
  {
   "cell_type": "code",
   "execution_count": 2,
   "metadata": {},
   "outputs": [
    {
     "data": {
      "text/plain": [
       "w = (2) (w_1, w_2, w_3)"
      ]
     },
     "execution_count": 2,
     "metadata": {},
     "output_type": "execute_result"
    }
   ],
   "source": [
    "w1 = AutomataGroupElement('w1')\n",
    "w2 = AutomataGroupElement('w2')\n",
    "w3 = AutomataGroupElement('w3')\n",
    "w_1 = AutomataGroupElement('w_1', children=(w1, w2, w3))\n",
    "\n",
    "w4 = AutomataGroupElement('w4')\n",
    "w5 = AutomataGroupElement('w5')\n",
    "w6 = AutomataGroupElement('w6')\n",
    "w_2 = AutomataGroupElement('w_2', children=(w4, w5, w6))\n",
    "\n",
    "w7 = AutomataGroupElement('w7')\n",
    "w8 = AutomataGroupElement('w8')\n",
    "w9 = AutomataGroupElement('w9')\n",
    "w_3 = AutomataGroupElement('w_3', children=(w7, w8, w9))\n",
    "\n",
    "\n",
    "test_w = AutomataGroupElement('w', children=(w_1, w_2, w_3))\n",
    "test_w"
   ]
  },
  {
   "cell_type": "code",
   "execution_count": 56,
   "metadata": {},
   "outputs": [
    {
     "data": {
      "text/plain": [
       "w_3b = (0 2) (w9, w8b, w7)"
      ]
     },
     "execution_count": 56,
     "metadata": {},
     "output_type": "execute_result"
    }
   ],
   "source": [
    "def from_string2(iterable):\n",
    "    res = test_w\n",
    "    for el in iterable:\n",
    "        res *= from_string(el)\n",
    "    return res\n",
    "\n",
    "\n",
    "from_string2('abc')[0]"
   ]
  },
  {
   "cell_type": "code",
   "execution_count": 70,
   "metadata": {},
   "outputs": [
    {
     "name": "stdout",
     "output_type": "stream",
     "text": [
      "w1..a : 1\n",
      "w1..b : 7\n",
      "w1..c : 7\n",
      "w2..a : 4\n",
      "w2..b : 5\n",
      "w2..c : 6\n",
      "w3..a : 4\n",
      "w3..b : 6\n",
      "w3..c : 5\n",
      "w4..a : 2\n",
      "w4..b : 7\n",
      "w4..c : 6\n",
      "w5..a : 4\n",
      "w5..b : 4\n",
      "w5..c : 7\n",
      "w6..a : 3\n",
      "w6..b : 7\n",
      "w6..c : 5\n",
      "w7..a : 2\n",
      "w7..b : 6\n",
      "w7..c : 7\n",
      "w8..a : 3\n",
      "w8..b : 5\n",
      "w8..c : 7\n",
      "w9..a : 4\n",
      "w9..b : 7\n",
      "w9..c : 4\n"
     ]
    }
   ],
   "source": [
    "for start in ['w1', 'w2', 'w3', 'w4', 'w5', 'w6', 'w7', 'w8', 'w9']:\n",
    "    for end in ['a', 'b', 'c']:\n",
    "        for n in range(1, 10):\n",
    "            found = False\n",
    "            for el in permute('abc', repeat=n):\n",
    "                name = ''.join(el)\n",
    "                tmp = from_string2(el)\n",
    "                if tmp[0][0].name.startswith(start) and tmp[0][0].name.endswith(end):\n",
    "                    print(f'{start}..{end} : {len(name)}')\n",
    "                    found = True\n",
    "                    break\n",
    "            if found: \n",
    "                break\n",
    "    "
   ]
  },
  {
   "cell_type": "code",
   "execution_count": 98,
   "metadata": {},
   "outputs": [
    {
     "name": "stdout",
     "output_type": "stream",
     "text": [
      "T_w1 =      122T_w1(n - 7, k - 1)    +       66T_w1(n - 7, k - 2)    +       56T_w1(n - 7, k - 3)    +       12T_w1(n - 7, k - 5)    +       10T_w1(n - 7, k - 4)    +        1T_w1(n - 7, k - 7)    + (3^7 - 267)T_w1(n - 7, k)\n",
      "    +       58T_w2(n - 7, k - 1)    +       23T_w2(n - 7, k - 2)    +        6T_w2(n - 7, k - 3)    +        1T_w2(n - 7, k - 4)    + (3^7 - 88)T_w2(n - 7, k)\n",
      "    +       58T_w3(n - 7, k - 1)    +       23T_w3(n - 7, k - 2)    +        6T_w3(n - 7, k - 3)    +        1T_w3(n - 7, k - 4)    + (3^7 - 88)T_w3(n - 7, k)\n",
      "    +       95T_w4(n - 7, k - 1)    +       63T_w4(n - 7, k - 2)    +       19T_w4(n - 7, k - 3)    +       12T_w4(n - 7, k - 4)    +        1T_w4(n - 7, k - 5)    +        1T_w4(n - 7, k - 6)    + (3^7 - 191)T_w4(n - 7, k)\n",
      "    +       59T_w5(n - 7, k - 1)    +       39T_w5(n - 7, k - 2)    +        8T_w5(n - 7, k - 3)    +        5T_w5(n - 7, k - 4)    + (3^7 - 111)T_w5(n - 7, k)\n",
      "    +       79T_w6(n - 7, k - 1)    +       26T_w6(n - 7, k - 2)    +       15T_w6(n - 7, k - 3)    +        1T_w6(n - 7, k - 4)    +        1T_w6(n - 7, k - 5)    + (3^7 - 122)T_w6(n - 7, k)\n",
      "    +       95T_w7(n - 7, k - 1)    +       63T_w7(n - 7, k - 2)    +       19T_w7(n - 7, k - 3)    +       12T_w7(n - 7, k - 4)    +        1T_w7(n - 7, k - 5)    +        1T_w7(n - 7, k - 6)    + (3^7 - 191)T_w7(n - 7, k)\n",
      "    +       79T_w8(n - 7, k - 1)    +       26T_w8(n - 7, k - 2)    +       15T_w8(n - 7, k - 3)    +        1T_w8(n - 7, k - 4)    +        1T_w8(n - 7, k - 5)    + (3^7 - 122)T_w8(n - 7, k)\n",
      "    +       59T_w9(n - 7, k - 1)    +       39T_w9(n - 7, k - 2)    +        8T_w9(n - 7, k - 3)    +        5T_w9(n - 7, k - 4)    + (3^7 - 111)T_w9(n - 7, k)\n"
     ]
    }
   ],
   "source": [
    "res = ''\n",
    "for start in ['w1', 'w2', 'w3', 'w4', 'w5', 'w6', 'w7', 'w8', 'w9']:\n",
    "    n = 7\n",
    "    found = []\n",
    "    for el in product('abc', repeat=n):\n",
    "        name = ''.join(el)\n",
    "        tmp = from_string2(el)\n",
    "        if tmp[0][0].name.startswith(start) and not tmp[0][0].name == start:\n",
    "            found.append(len(tmp[0][0].name.strip(start)))\n",
    "    \n",
    "    for length, amount in Counter(found).most_common():\n",
    "        res += '    +' + f'{amount}T_{start}(n - {n}, k - {length})'.rjust(27)\n",
    "        \n",
    "    res += f\"    + (3^{n} - {len(found)})T_{start}(n - {n}, k)\"\n",
    "    res += '\\n'\n",
    "\n",
    "res = 'T_w1 =' + res.strip().strip('+')\n",
    "print(res)"
   ]
  },
  {
   "cell_type": "code",
   "execution_count": 99,
   "metadata": {},
   "outputs": [],
   "source": [
    "with open(\"recursion.txt\", 'w') as file:\n",
    "    file.write(res)"
   ]
  },
  {
   "cell_type": "code",
   "execution_count": 27,
   "metadata": {},
   "outputs": [
    {
     "name": "stdout",
     "output_type": "stream",
     "text": [
      "cbacbac = (2)(0 1) (e, bca, cabc)\n"
     ]
    }
   ],
   "source": [
    "for el in product('abc', repeat=7):\n",
    "    el = from_string(el)\n",
    "    tmp = a * el\n",
    "    if tmp[1][1][1].name.startswith('a'):\n",
    "        print(el)\n",
    "        break"
   ]
  },
  {
   "cell_type": "code",
   "execution_count": 34,
   "metadata": {},
   "outputs": [
    {
     "data": {
      "text/plain": [
       "w_1c = (2)(0 1) (w2, w1, w3c)"
      ]
     },
     "execution_count": 34,
     "metadata": {},
     "output_type": "execute_result"
    }
   ],
   "source": [
    "(test_w * from_string('bc'))[2]"
   ]
  },
  {
   "cell_type": "code",
   "execution_count": 22,
   "metadata": {},
   "outputs": [
    {
     "data": {
      "image/png": "[encoded data removed]",
      "text/plain": [
       "<Figure size 1440x1440 with 1 Axes>"
      ]
     },
     "metadata": {
      "needs_background": "light"
     },
     "output_type": "display_data"
    }
   ],
   "source": [
    "from_string('ababababababab').show()"
   ]
  },
  {
   "cell_type": "code",
   "execution_count": 26,
   "metadata": {},
   "outputs": [
    {
     "name": "stdout",
     "output_type": "stream",
     "text": [
      "368 368\n"
     ]
    }
   ],
   "source": [
    "_f = {(1, 1): 1, (1, 0): 2}\n",
    "_g = {(1, 0): 3}\n",
    "\n",
    "def F(n, k):\n",
    "    if n <= 0 or k > n or k < 0:\n",
    "        return 0\n",
    "    \n",
    "    if (n, k) not in _f:\n",
    "        _f[(n, k)] = F(n-1, k-1) + 2 * G(n-1, k)\n",
    "    return _f[(n, k)]\n",
    "\n",
    "def G(n, k):\n",
    "    if n <= 0 or k > n or k < 0:\n",
    "        return 0\n",
    "    \n",
    "    if (n, k) not in _g:\n",
    "        _g[(n, k)] = F(n-1, k) + 2 * G(n-1, k)\n",
    "    return _g[(n, k)]\n",
    "\n",
    "def brute_F(n, k):\n",
    "    res = 0\n",
    "    for el in product('abc', repeat=n):\n",
    "        tmp_el = from_string(el)\n",
    "        if len(tmp_el[0][0]) == k:\n",
    "            res += 1\n",
    "    return res\n",
    "\n",
    "\n",
    "n = 7\n",
    "k = 2\n",
    "print(F(n, k), brute_F(n, k))"
   ]
  },
  {
   "cell_type": "code",
   "execution_count": 57,
   "metadata": {},
   "outputs": [
    {
     "name": "stdout",
     "output_type": "stream",
     "text": [
      "920 920\n",
      "452 452\n"
     ]
    }
   ],
   "source": [
    "import numpy as np\n",
    "from numpy.linalg import matrix_power\n",
    "\n",
    "def F2(n, k):\n",
    "    if n <= 0 or k > n or k < 0:\n",
    "        return 0\n",
    "    if n == 1:\n",
    "        return F(n, k)\n",
    "    \n",
    "    return _FG_iter(n, k)[0, 0]\n",
    "\n",
    "def G2(n, k):\n",
    "    if n <= 0 or k > n or k < 0:\n",
    "        return 0\n",
    "    if n == 1:\n",
    "        return G(n, k)\n",
    "    \n",
    "    return _FG_iter(n, k)[0, -1]\n",
    "\n",
    "\n",
    "def _FG_iter(n, k):\n",
    "    start = [F(1, _k) for _k in range(k+1)][::-1] + [G(1, _k) for _k in range(k+1)]\n",
    "    start = np.array(start, dtype='int64').reshape((2*(k+1)), 1)\n",
    "    m = _generate_matrix(k)\n",
    "    m = matrix_power(m, n-1)\n",
    "    return np.array(m.dot(start)).reshape((1, 2*(k+1)))\n",
    "\n",
    "\n",
    "def _generate_matrix(k):\n",
    "    k = k + 1\n",
    "    res = np.zeros(shape=(2*k, 2*k), dtype='int64')\n",
    "    for i in range(k):\n",
    "        res[i][i+1] = 1\n",
    "        res[i][-i-1] = 2\n",
    "    for i in range(k):\n",
    "        res[k+i][-(k+i+1)] = 1\n",
    "        res[k+i][k+i] = 2\n",
    "    \n",
    "    return res\n",
    "\n",
    "n = 10\n",
    "k = 5\n",
    "\n",
    "print(F(n, k), F2(n, k))\n",
    "print(G(n, k), G2(n, k))"
   ]
  },
  {
   "cell_type": "code",
   "execution_count": 38,
   "metadata": {},
   "outputs": [
    {
     "data": {
      "text/plain": [
       "array([[1, 2, 0, 0, 0, 0, 0, 0, 0, 0, 0, 0, 0, 0, 0, 0],\n",
       "       [1, 1, 1, 0, 0, 0, 0, 0, 0, 0, 0, 0, 0, 0, 0, 0],\n",
       "       [0, 1, 0, 2, 0, 0, 0, 0, 0, 0, 0, 0, 0, 0, 0, 0],\n",
       "       [0, 0, 1, 1, 1, 0, 0, 0, 0, 0, 0, 0, 0, 0, 0, 0],\n",
       "       [0, 0, 0, 1, 0, 2, 0, 0, 0, 0, 0, 0, 0, 0, 0, 0],\n",
       "       [0, 0, 0, 0, 1, 1, 1, 0, 0, 0, 0, 0, 0, 0, 0, 0],\n",
       "       [0, 0, 0, 0, 0, 1, 0, 2, 0, 0, 0, 0, 0, 0, 0, 0],\n",
       "       [0, 0, 0, 0, 0, 0, 1, 1, 1, 0, 0, 0, 0, 0, 0, 0],\n",
       "       [0, 0, 0, 0, 0, 0, 0, 1, 0, 2, 0, 0, 0, 0, 0, 0],\n",
       "       [0, 0, 0, 0, 0, 0, 0, 0, 1, 1, 1, 0, 0, 0, 0, 0],\n",
       "       [0, 0, 0, 0, 0, 0, 0, 0, 0, 1, 0, 2, 0, 0, 0, 0],\n",
       "       [0, 0, 0, 0, 0, 0, 0, 0, 0, 0, 1, 1, 1, 0, 0, 0],\n",
       "       [0, 0, 0, 0, 0, 0, 0, 0, 0, 0, 0, 1, 0, 2, 0, 0],\n",
       "       [0, 0, 0, 0, 0, 0, 0, 0, 0, 0, 0, 0, 1, 1, 1, 0],\n",
       "       [0, 0, 0, 0, 0, 0, 0, 0, 0, 0, 0, 0, 0, 1, 0, 2],\n",
       "       [0, 0, 0, 0, 0, 0, 0, 0, 0, 0, 0, 0, 0, 0, 1, 2]])"
      ]
     },
     "execution_count": 38,
     "metadata": {},
     "output_type": "execute_result"
    }
   ],
   "source": [
    "import numpy as np\n",
    "\n",
    "start = np.array([\n",
    "   [ 1, 2 ],\n",
    "   [ 1, 2 ]\n",
    "], dtype='int64')\n",
    "\n",
    "\n",
    "def next_m(matrix):\n",
    "    n = matrix.shape[0]\n",
    "    res = np.zeros((n*2, n*2), dtype=matrix.dtype)\n",
    "    res[:n, :n] = matrix\n",
    "    res[n-1, n-1] -= 1\n",
    "    res[n:, n:] = matrix\n",
    "    res[n, n] -= 1\n",
    "    \n",
    "    res[n-1, n] = res[n, n-1] = 1\n",
    "    return res\n",
    "\n",
    "next_m(next_m(next_m(start)))"
   ]
  },
  {
   "cell_type": "code",
   "execution_count": 21,
   "metadata": {},
   "outputs": [
    {
     "data": {
      "text/plain": [
       "array([[ 49,  84,  46,  64],\n",
       "       [ 42,  72,  51,  78],\n",
       "       [ 23,  51,  53, 116],\n",
       "       [ 16,  39,  58, 130]])"
      ]
     },
     "execution_count": 21,
     "metadata": {},
     "output_type": "execute_result"
    }
   ],
   "source": [
    "from numpy.linalg import matrix_power, eig\n",
    "\n",
    "x2 = next_m(start)\n",
    "x3 = next_m(x2)\n",
    "\n",
    "n = 5\n",
    "\n",
    "matrix_power(x2, n)"
   ]
  },
  {
   "cell_type": "code",
   "execution_count": 19,
   "metadata": {},
   "outputs": [
    {
     "data": {
      "text/plain": [
       "array([[ 49,  84,  42,  48,  12,   8,   0,   0],\n",
       "       [ 42,  70,  45,  48,  22,  12,   4,   0],\n",
       "       [ 21,  45,  31,  64,  26,  40,   8,   8],\n",
       "       [ 12,  24,  32,  52,  41,  44,  22,  16],\n",
       "       [  3,  11,  13,  41,  29,  64,  30,  52],\n",
       "       [  1,   3,  10,  22,  32,  54,  47,  74],\n",
       "       [  0,   1,   2,  11,  15,  47,  51, 116],\n",
       "       [  0,   0,   1,   4,  13,  37,  58, 130]])"
      ]
     },
     "execution_count": 19,
     "metadata": {},
     "output_type": "execute_result"
    }
   ],
   "source": [
    "matrix_power(x3, n)"
   ]
  },
  {
   "cell_type": "code",
   "execution_count": 32,
   "metadata": {},
   "outputs": [
    {
     "data": {
      "image/png": "[encoded data removed]",
      "text/plain": [
       "<Figure size 432x288 with 1 Axes>"
      ]
     },
     "metadata": {},
     "output_type": "display_data"
    }
   ],
   "source": [
    "import networkx as nx\n",
    "\n",
    "def from_matrix(matrix):\n",
    "    res = nx.DiGraph(matrix.shape[0])\n",
    "    for i in range(matrix.shape[0]):\n",
    "        for j in range(matrix.shape[1]):\n",
    "            for x in range(matrix[i, j]):\n",
    "                res.add_edge(i, j)\n",
    "    return res\n",
    "\n",
    "res = nx.DiGraph(x2)\n",
    "nx.draw(res)"
   ]
  },
  {
   "cell_type": "code",
   "execution_count": 35,
   "metadata": {},
   "outputs": [
    {
     "data": {
      "image/png": "[encoded data removed]",
      "text/plain": [
       "<Figure size 432x288 with 1 Axes>"
      ]
     },
     "metadata": {},
     "output_type": "display_data"
    }
   ],
   "source": [
    "Serp = np.array([\n",
    "    [1, 1, 1, 0, 0, 0, 0, 0, 0],\n",
    "    [1, 0, 1, 0, 0, 0, 0, 1, 0],\n",
    "    [1, 1, 0, 1, 0, 0, 0, 0, 0],\n",
    "    [0, 0, 1, 0, 1, 1, 0, 0, 0],\n",
    "    [0, 0, 0, 1, 1, 1, 0, 0, 0],\n",
    "    [0, 0, 0, 1, 1, 0, 1, 0, 0],\n",
    "    [0, 0, 0, 0, 0, 1, 0, 1, 1],\n",
    "    [0, 1, 0, 0, 0, 0, 1, 0, 1],\n",
    "    [0, 0, 0, 0, 0, 0, 1, 1, 1]\n",
    "])\n",
    "\n",
    "test = nx.from_numpy_array(Serp)\n",
    "nx.draw(test)"
   ]
  },
  {
   "cell_type": "code",
   "execution_count": 37,
   "metadata": {},
   "outputs": [
    {
     "data": {
      "text/plain": [
       "(array([-1.30277564e+00, -1.05818132e-16,  2.30277564e+00,  3.00000000e+00,\n",
       "         2.30277564e+00, -4.17964173e-17, -2.00000000e+00, -1.30277564e+00,\n",
       "        -4.04494984e-18]),\n",
       " array([[-3.14571950e-01,  6.66666667e-01, -5.87783066e-01,\n",
       "         -3.33333333e-01,  1.75375359e-02, -4.32132274e-01,\n",
       "          2.81427146e-17, -6.35759243e-03, -2.78678361e-01],\n",
       "        [ 3.62194312e-01, -3.33333333e-01, -3.82874729e-01,\n",
       "         -3.33333333e-01,  1.29674950e-01,  4.56864563e-01,\n",
       "          4.08248290e-01,  3.97971432e-01,  3.99733111e-01],\n",
       "        [ 3.62194312e-01, -3.33333333e-01, -3.82874729e-01,\n",
       "         -3.33333333e-01, -1.06827475e-01, -2.47322889e-02,\n",
       "         -4.08248290e-01, -3.83331323e-01, -1.21054750e-01],\n",
       "        [-5.19480287e-01, -3.33333333e-01,  8.89831963e-02,\n",
       "         -3.33333333e-01, -3.93212194e-01, -2.47322889e-02,\n",
       "          4.08248290e-01,  1.07780869e-01, -1.21054750e-01],\n",
       "        [ 1.57285975e-01,  1.66666667e-01,  2.93891533e-01,\n",
       "         -3.33333333e-01, -5.17577205e-01,  3.73563783e-01,\n",
       "         -9.70897214e-17, -2.69192861e-01,  5.14155686e-01],\n",
       "        [ 1.57285975e-01,  1.66666667e-01,  2.93891533e-01,\n",
       "         -3.33333333e-01, -2.81074780e-01, -3.48831495e-01,\n",
       "         -4.08248290e-01,  5.12109893e-01, -3.93100936e-01],\n",
       "        [ 1.57285975e-01,  1.66666667e-01,  2.93891533e-01,\n",
       "         -3.33333333e-01,  2.63537244e-01, -3.48831495e-01,\n",
       "          4.08248290e-01, -5.05752301e-01, -3.93100936e-01],\n",
       "        [-5.19480287e-01, -3.33333333e-01,  8.89831963e-02,\n",
       "         -3.33333333e-01,  3.87902255e-01,  4.56864563e-01,\n",
       "         -4.08248290e-01, -1.28778571e-01,  3.99733111e-01],\n",
       "        [ 1.57285975e-01,  1.66666667e-01,  2.93891533e-01,\n",
       "         -3.33333333e-01,  5.00039669e-01, -1.08033069e-01,\n",
       "          9.69436295e-17,  2.75550454e-01, -6.63217539e-03]]))"
      ]
     },
     "execution_count": 37,
     "metadata": {},
     "output_type": "execute_result"
    }
   ],
   "source": [
    "eig(Serp)"
   ]
  }
 ],
 "metadata": {
  "kernelspec": {
   "display_name": "Python 3",
   "language": "python",
   "name": "python3"
  },
  "language_info": {
   "codemirror_mode": {
    "name": "ipython",
    "version": 3
   },
   "file_extension": ".py",
   "mimetype": "text/x-python",
   "name": "python",
   "nbconvert_exporter": "python",
   "pygments_lexer": "ipython3",
   "version": "3.8.5"
  }
 },
 "nbformat": 4,
 "nbformat_minor": 4
}
