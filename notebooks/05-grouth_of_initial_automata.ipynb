{
 "cells": [
  {
   "cell_type": "code",
   "execution_count": 1,
   "id": "696e6eb0-e816-4bf2-87db-3ddd33d93a6c",
   "metadata": {},
   "outputs": [],
   "source": [
    "import sys\n",
    "if '../' not in sys.path: \n",
    "    sys.path.append('../')"
   ]
  },
  {
   "cell_type": "code",
   "execution_count": 2,
   "id": "1badd99e-2042-4d36-9415-361acc026edf",
   "metadata": {},
   "outputs": [],
   "source": [
    "from autogrp import AutomataGroupElement, Permutation, AutomataGroup"
   ]
  },
  {
   "cell_type": "code",
   "execution_count": 40,
   "id": "7b44d80d-70f4-4e3e-bff2-43a8ef993547",
   "metadata": {},
   "outputs": [
    {
     "data": {
      "text/plain": [
       "Transducer with 2 states"
      ]
     },
     "execution_count": 40,
     "metadata": {},
     "output_type": "execute_result"
    }
   ],
   "source": [
    "test = Transducer({'a': [('e', 0, 1), ('a', 1, 0)], 'e': [('e', 0, 0), ('e', 1, 1)]})\n",
    "test"
   ]
  },
  {
   "cell_type": "code",
   "execution_count": 43,
   "id": "38134505-5e97-4c21-a342-93d5c6d3cbb0",
   "metadata": {},
   "outputs": [],
   "source": [
    "a = test.deepcopy() \n",
    "a.state('a').is_initial = True \n",
    "e = test.deepcopy()\n",
    "e.state('e').is_initial = True \n"
   ]
  },
  {
   "cell_type": "code",
   "execution_count": 46,
   "id": "07a1f746-b3e8-4acd-ad95-14d6a7d28750",
   "metadata": {},
   "outputs": [
    {
     "data": {
      "text/plain": [
       "(False, 'a', [0])"
      ]
     },
     "execution_count": 46,
     "metadata": {},
     "output_type": "execute_result"
    }
   ],
   "source": [
    "a.process([1])"
   ]
  },
  {
   "cell_type": "code",
   "execution_count": 37,
   "id": "5ca5f5ec-e21f-4469-8007-5e49d4a4a0fd",
   "metadata": {},
   "outputs": [],
   "source": [
    "a = Automaton({'a': [('e', 1), ('a', 0)], 'e': [('e', 0), ('e', 1)]}).with_output()\n",
    "e = Automaton({'a': [('e', 1), ('a', 0)], 'e': [('e', 0), ('e', 1)]}).with_output()\n",
    "\n",
    "a.state('a').is_initial = True \n",
    "e.state('e').is_initial = True "
   ]
  },
  {
   "cell_type": "code",
   "execution_count": 39,
   "id": "77c42aeb-71fb-459e-9589-8a45e4da8201",
   "metadata": {},
   "outputs": [
    {
     "data": {
      "text/plain": [
       "(False, 'a', [0])"
      ]
     },
     "execution_count": 39,
     "metadata": {},
     "output_type": "execute_result"
    }
   ],
   "source": [
    "a.process([0])"
   ]
  },
  {
   "cell_type": "code",
   "execution_count": 5,
   "id": "af1cbd30-ad30-4a5b-bc0f-157f7f78b6ef",
   "metadata": {},
   "outputs": [
    {
     "data": {
      "text/plain": [
       "(False, 'e', [0, 1, 0, 0])"
      ]
     },
     "execution_count": 5,
     "metadata": {},
     "output_type": "execute_result"
    }
   ],
   "source": [
    "a.process([0, 1, 0, 0])"
   ]
  },
  {
   "cell_type": "code",
   "execution_count": 6,
   "id": "7ef2880f-0d1a-4b5a-a4d9-5916aa348f8b",
   "metadata": {},
   "outputs": [
    {
     "name": "stdout",
     "output_type": "stream",
     "text": [
      "'a'\n",
      "'e'\n"
     ]
    }
   ],
   "source": [
    "for el in test.states(): \n",
    "    print(test.state(el))"
   ]
  },
  {
   "cell_type": "code",
   "execution_count": 7,
   "id": "10fb3c04-fedb-49d2-aac8-98363047bd05",
   "metadata": {},
   "outputs": [],
   "source": [
    "a = test.deepcopy()\n",
    "a.state('a').is_initial = True"
   ]
  },
  {
   "cell_type": "code",
   "execution_count": 8,
   "id": "a5ab9538-e9a6-4d65-a932-3210255af9c5",
   "metadata": {},
   "outputs": [
    {
     "data": {
      "image/png": "[encoded data removed]",
      "text/plain": [
       "Looped multi-digraph on 2 vertices"
      ]
     },
     "execution_count": 8,
     "metadata": {},
     "output_type": "execute_result"
    }
   ],
   "source": [
    "a.graph()"
   ]
  },
  {
   "cell_type": "code",
   "execution_count": 9,
   "id": "bc58566a-b3e1-4142-aa09-42a7d5502d64",
   "metadata": {},
   "outputs": [
    {
     "data": {
      "text/plain": [
       "[0, 1]"
      ]
     },
     "execution_count": 9,
     "metadata": {},
     "output_type": "execute_result"
    }
   ],
   "source": [
    "test.input_alphabet"
   ]
  },
  {
   "cell_type": "code",
   "execution_count": 10,
   "id": "1055760b-8c28-4dd3-b872-d27cf90a06a8",
   "metadata": {},
   "outputs": [
    {
     "data": {
      "text/plain": [
       "(False, 'e', [1])"
      ]
     },
     "execution_count": 10,
     "metadata": {},
     "output_type": "execute_result"
    }
   ],
   "source": [
    "a.process([1])"
   ]
  },
  {
   "cell_type": "code",
   "execution_count": 11,
   "id": "7f019760-567b-468d-96d6-a6cbf5eff7a8",
   "metadata": {},
   "outputs": [
    {
     "data": {
      "text/plain": [
       "['a']"
      ]
     },
     "execution_count": 11,
     "metadata": {},
     "output_type": "execute_result"
    }
   ],
   "source": [
    "a.initial_states()"
   ]
  },
  {
   "cell_type": "code",
   "execution_count": 73,
   "id": "9f2a851c-0624-4bc0-b097-519273d684b0",
   "metadata": {},
   "outputs": [],
   "source": [
    "__group = 0"
   ]
  },
  {
   "cell_type": "code",
   "execution_count": 112,
   "id": "2795a513-78ca-45c2-93b1-6290962c398e",
   "metadata": {},
   "outputs": [],
   "source": [
    "def transducer2el(transducer): \n",
    "    name = transducer.initial_states()[0].label()\n",
    "    alphabet = transducer.input_alphabet\n",
    "    res_perm = list(range(len(alphabet)))\n",
    "    children = []\n",
    "    for i, letter in enumerate(alphabet): \n",
    "        _, child, out = transducer.process([letter])\n",
    "        out = out[0]\n",
    "        res_perm[i] = alphabet.index(out)\n",
    "        children.append(child.label())\n",
    "    return AutomataGroupElement(name, Permutation(res_perm), children, is_atom=True)\n",
    "    # return name, res_perm, children\n",
    "\n",
    "def automaton2group(automaton, name='', force=False): \n",
    "    gens = []\n",
    "    for el in automaton.states(): \n",
    "        tmp_el = automaton.deepcopy()\n",
    "        for in_st in tmp_el.initial_states(): in_st.is_initial = False\n",
    "        tmp_el.state(el).is_initial = True \n",
    "        gens.append(transducer2el(tmp_el))\n",
    "\n",
    "    if not name: \n",
    "        global __group\n",
    "        name = f'A#{__group}'\n",
    "        __group += 1\n",
    "    if force and name in AutomataGroup.all_instances():\n",
    "        AutomataGroup.clear_group(name)\n",
    "        \n",
    "    return AutomataGroup(name, gens)\n",
    "    # return gens"
   ]
  },
  {
   "cell_type": "code",
   "execution_count": 113,
   "id": "7e98c433-50a3-445d-b003-04b01b8b3fdb",
   "metadata": {},
   "outputs": [
    {
     "data": {
      "text/plain": [
       "\n",
       "        \r",
       "AutomataGroup A#3\n",
       "        \r",
       "over alphabet {'1', '0'}\n",
       "        \r",
       "generated by <A#3(a = (0 1) (e, a)), A#3(e = (1) (e, e))>.\n",
       "        "
      ]
     },
     "execution_count": 113,
     "metadata": {},
     "output_type": "execute_result"
    }
   ],
   "source": [
    "G = automaton2group(test, force=True)\n",
    "G"
   ]
  },
  {
   "cell_type": "code",
   "execution_count": 144,
   "id": "670491d6-ee5d-4cd0-9f55-87a57310a585",
   "metadata": {},
   "outputs": [],
   "source": [
    "import numpy as np\n",
    "import random\n",
    "\n",
    "def get_random_automaton(n_states=2, n_alphabet=3): \n",
    "    states = 'abcdef'[:n_states]\n",
    "    alphabet = list(range(n_alphabet))\n",
    "    aut = {state: [] for state in states}\n",
    "    for state in states:\n",
    "        trans = aut[state]\n",
    "        perm = list(range(n_alphabet))\n",
    "        np.random.shuffle(perm)\n",
    "        for letter in alphabet:\n",
    "            # todo: make random permutation instead of this \n",
    "            trans.append((random.choice(states), letter, perm[letter]))\n",
    "    return Transducer(aut)"
   ]
  },
  {
   "cell_type": "code",
   "execution_count": 145,
   "id": "7a5d05ba-3988-4bfd-bef9-a45d2cb00f40",
   "metadata": {},
   "outputs": [
    {
     "data": {
      "text/plain": [
       "\n",
       "        \r",
       "AutomataGroup test2\n",
       "        \r",
       "over alphabet {'1', '0'}\n",
       "        \r",
       "generated by <test2(a = (1) (b, c)), test2(b = (0 1) (b, b)), test2(c = (1) (a, a))>.\n",
       "        "
      ]
     },
     "execution_count": 145,
     "metadata": {},
     "output_type": "execute_result"
    }
   ],
   "source": [
    "G = automaton2group(get_random_automaton(3, 2), name='test2', force=True)\n",
    "G"
   ]
  },
  {
   "cell_type": "code",
   "execution_count": 150,
   "id": "6a0c1324-cdc9-484f-8ccb-9f699e08f635",
   "metadata": {},
   "outputs": [
    {
     "data": {
      "text/plain": [
       "test2(aabcbabc = (0 1) (ccbabcba, bbbabbba))"
      ]
     },
     "execution_count": 150,
     "metadata": {},
     "output_type": "execute_result"
    }
   ],
   "source": [
    "G('aabcbabc') "
   ]
  }
 ],
 "metadata": {
  "kernelspec": {
   "display_name": "SageMath 10.2",
   "language": "sage",
   "name": "sagemath-10.2"
  },
  "language_info": {
   "codemirror_mode": {
    "name": "ipython",
    "version": 3
   },
   "file_extension": ".py",
   "mimetype": "text/x-python",
   "name": "python",
   "nbconvert_exporter": "python",
   "pygments_lexer": "ipython3",
   "version": "3.11.1"
  }
 },
 "nbformat": 4,
 "nbformat_minor": 5
}
