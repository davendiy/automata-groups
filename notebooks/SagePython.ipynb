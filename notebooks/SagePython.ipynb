{
 "cells": [
  {
   "cell_type": "code",
   "execution_count": 2,
   "metadata": {},
   "outputs": [],
   "source": [
    "from src.source2 import *\n",
    "import matplotlib.pyplot as plt\n",
    "from itertools import product\n",
    "from collections import Counter\n",
    "import numpy as np\n",
    "import numpy.linalg"
   ]
  },
  {
   "cell_type": "code",
   "execution_count": 3,
   "metadata": {},
   "outputs": [],
   "source": [
    "start = np.array([\n",
    "   [ 1, 2 ],\n",
    "   [ 1, 2 ]\n",
    "], dtype='int64')\n",
    "\n",
    "\n",
    "def next_m(matrix):\n",
    "    n = matrix.shape[0]\n",
    "    res = np.zeros((n*2, n*2), dtype=matrix.dtype)\n",
    "    res[:n, :n] = matrix\n",
    "    res[n-1, n-1] -= 1\n",
    "    res[n:, n:] = matrix\n",
    "    res[n, n] -= 1\n",
    "    \n",
    "    res[n-1, n] = res[n, n-1] = 1\n",
    "    return res\n",
    "\n",
    "\n",
    "x2 = next_m(start)\n",
    "x3 = next_m(x2)\n",
    "\n",
    "x2_0 = x2.copy()\n",
    "x3_0 = x3.copy()\n",
    "\n",
    "x2_0[0, 0] = 0\n",
    "x3_0[0, 0] = 0"
   ]
  },
  {
   "cell_type": "code",
   "execution_count": 4,
   "metadata": {},
   "outputs": [],
   "source": [
    "serp = np.array([\n",
    "    [1, 1, 1, 0, 0, 0, 0, 0, 0],\n",
    "    [1, 0, 1, 0, 0, 0, 0, 1, 0],\n",
    "    [1, 1, 0, 1, 0, 0, 0, 0, 0],\n",
    "    [0, 0, 1, 0, 1, 1, 0, 0, 0],\n",
    "    [0, 0, 0, 1, 1, 1, 0, 0, 0],\n",
    "    [0, 0, 0, 1, 1, 0, 1, 0, 0],\n",
    "    [0, 0, 0, 0, 0, 1, 0, 1, 1],\n",
    "    [0, 1, 0, 0, 0, 0, 1, 0, 1],\n",
    "    [0, 0, 0, 0, 0, 0, 1, 1, 1]\n",
    "])\n",
    "\n",
    "serp2 = serp.copy()\n",
    "serp2[0, 0] = 0\n",
    "serp2[4, 4] = 0\n",
    "serp2[8, 8] = 0"
   ]
  },
  {
   "cell_type": "code",
   "execution_count": 5,
   "metadata": {},
   "outputs": [
    {
     "data": {
      "text/plain": [
       "array([[0, 1, 1, 0, 0, 0, 0, 0, 0],\n",
       "       [1, 0, 1, 0, 0, 0, 0, 1, 0],\n",
       "       [1, 1, 0, 1, 0, 0, 0, 0, 0],\n",
       "       [0, 0, 1, 0, 1, 1, 0, 0, 0],\n",
       "       [0, 0, 0, 1, 0, 1, 0, 0, 0],\n",
       "       [0, 0, 0, 1, 1, 0, 1, 0, 0],\n",
       "       [0, 0, 0, 0, 0, 1, 0, 1, 1],\n",
       "       [0, 1, 0, 0, 0, 0, 1, 0, 1],\n",
       "       [0, 0, 0, 0, 0, 0, 1, 1, 0]])"
      ]
     },
     "execution_count": 5,
     "metadata": {},
     "output_type": "execute_result"
    }
   ],
   "source": [
    "serp2"
   ]
  },
  {
   "cell_type": "code",
   "execution_count": 6,
   "metadata": {},
   "outputs": [],
   "source": [
    "Ring13.<t> = QQ.extension(x^2 - 13)"
   ]
  },
  {
   "cell_type": "code",
   "execution_count": 7,
   "metadata": {},
   "outputs": [],
   "source": [
    "X2   = matrix(Ring13, x2)\n",
    "X2_0 = matrix(Ring13, x2_0)\n",
    "\n",
    "X3   = matrix(Ring13, x3)\n",
    "X3_0 = matrix(Ring13, x3_0)\n",
    "\n",
    "S    = matrix(Ring13, serp)\n",
    "S2   = matrix(Ring13, serp2)"
   ]
  },
  {
   "cell_type": "code",
   "execution_count": 18,
   "metadata": {},
   "outputs": [
    {
     "data": {
      "text/plain": [
       "[(-2,\n",
       "  [\n",
       "  (0, 1, -1, 1, 0, -1, 1, -1, 0)\n",
       "  ],\n",
       "  1),\n",
       " (-0.732050807568878?,\n",
       "  [(1, -0.366025403784439?, -0.366025403784439?, -0.366025403784439?, 1, -0.366025403784439?, -0.366025403784439?, -0.366025403784439?, 1)],\n",
       "  1),\n",
       " (2.732050807568878?,\n",
       "  [(1, 1.366025403784439?, 1.366025403784439?, 1.366025403784439?, 1, 1.366025403784439?, 1.366025403784439?, 1.366025403784439?, 1)],\n",
       "  1),\n",
       " (-1.532088886237957?,\n",
       "  [(1, 0, -1.532088886237957?, 1.347296355333861?, -1.532088886237957?, 1, -1.347296355333861?, 0.5320888862379561?, 0.5320888862379561?),\n",
       "   (0, 1, -1, 0.5320888862379561?, -1.347296355333861?, 1.532088886237957?, -1.532088886237957?, -0.5320888862379561?, 1.347296355333861?)],\n",
       "  2),\n",
       " (-0.3472963553338607?,\n",
       "  [(1, 0, -0.3472963553338607?, -0.879385241571817?, -0.3472963553338607?, 1, 0.879385241571817?, -0.652703644666140?, -0.652703644666140?),\n",
       "   (0, 1, -1, -0.652703644666140?, 0.879385241571817?, 0.3472963553338607?, -0.3472963553338607?, 0.652703644666140?, -0.879385241571817?)],\n",
       "  2),\n",
       " (1.879385241571817?,\n",
       "  [(1, 0, 1.879385241571817?, 2.532088886237956?, 1.879385241571817?, 1, -2.532088886237956?, -2.879385241571817?, -2.879385241571817?),\n",
       "   (0, 1, -1, -2.879385241571817?, -2.532088886237956?, -1.879385241571817?, 1.879385241571817?, 2.879385241571817?, 2.532088886237956?)],\n",
       "  2)]"
      ]
     },
     "execution_count": 18,
     "metadata": {},
     "output_type": "execute_result"
    }
   ],
   "source": [
    "((S2)).eigenvectors_left()"
   ]
  },
  {
   "cell_type": "code",
   "execution_count": 23,
   "metadata": {},
   "outputs": [
    {
     "data": {
      "text/plain": [
       "[-2, t3 + 1, -t3 + 1, t2, t2, -t2^2 + 2, -t2^2 + 2, t2^2 - t2 - 2, t2^2 - t2 - 2]"
      ]
     },
     "execution_count": 23,
     "metadata": {},
     "output_type": "execute_result"
    }
   ],
   "source": [
    "Ring_sraka.<t2> = QQ.extension(x^3 - 3*x - 1)\n",
    "Ring_double_sraka.<t3> = Ring_sraka.extension(x^2 - 3)\n",
    "S2_2 = matrix(Ring_double_sraka, S2)\n",
    "S2_2.eigenvalues()"
   ]
  },
  {
   "cell_type": "code",
   "execution_count": 27,
   "metadata": {},
   "outputs": [
    {
     "data": {
      "text/plain": [
       "[1 1 1 0 0 0 0 0 0]\n",
       "[1 0 1 0 0 0 0 1 0]\n",
       "[1 1 0 1 0 0 0 0 0]\n",
       "[0 0 1 0 1 1 0 0 0]\n",
       "[0 0 0 1 1 1 0 0 0]\n",
       "[0 0 0 1 1 0 1 0 0]\n",
       "[0 0 0 0 0 1 0 1 1]\n",
       "[0 1 0 0 0 0 1 0 1]\n",
       "[0 0 0 0 0 0 1 1 1]"
      ]
     },
     "execution_count": 27,
     "metadata": {},
     "output_type": "execute_result"
    }
   ],
   "source": [
    "S"
   ]
  },
  {
   "cell_type": "code",
   "execution_count": 14,
   "metadata": {},
   "outputs": [
    {
     "data": {
      "text/plain": [
       "x^9 - 12*x^7 - 6*x^6 + 45*x^5 + 42*x^4 - 45*x^3 - 72*x^2 - 30*x - 4"
      ]
     },
     "execution_count": 14,
     "metadata": {},
     "output_type": "execute_result"
    }
   ],
   "source": [
    "S2.charpoly()"
   ]
  },
  {
   "cell_type": "code",
   "execution_count": 16,
   "metadata": {},
   "outputs": [
    {
     "data": {
      "text/plain": [
       "[(-1/2*(I*sqrt(3) + 1)*(1/2*I*sqrt(3) + 1/2)^(1/3) - 1/2*(-I*sqrt(3) + 1)/(1/2*I*sqrt(3) + 1/2)^(1/3),\n",
       "  1),\n",
       " (-1/2*(1/2*I*sqrt(3) + 1/2)^(1/3)*(-I*sqrt(3) + 1) - 1/2*(I*sqrt(3) + 1)/(1/2*I*sqrt(3) + 1/2)^(1/3),\n",
       "  1),\n",
       " ((1/2*I*sqrt(3) + 1/2)^(1/3) + 1/(1/2*I*sqrt(3) + 1/2)^(1/3), 1)]"
      ]
     },
     "execution_count": 16,
     "metadata": {},
     "output_type": "execute_result"
    }
   ],
   "source": [
    "(-1 - 3 * x + x^3).roots()"
   ]
  },
  {
   "cell_type": "code",
   "execution_count": 25,
   "metadata": {},
   "outputs": [
    {
     "data": {
      "text/plain": [
       "847288609443"
      ]
     },
     "execution_count": 25,
     "metadata": {},
     "output_type": "execute_result"
    }
   ],
   "source": [
    "3 ^ 25"
   ]
  },
  {
   "cell_type": "code",
   "execution_count": 55,
   "metadata": {},
   "outputs": [
    {
     "data": {
      "text/plain": [
       "x^9 - 3*x^8 - 3*x^7 + 11*x^6 + 6*x^5 - 12*x^4 - 8*x^3"
      ]
     },
     "execution_count": 55,
     "metadata": {},
     "output_type": "execute_result"
    }
   ],
   "source": [
    "k = 2\n",
    "(S^k - S2^k).characteristic_polynomial()"
   ]
  },
  {
   "cell_type": "code",
   "execution_count": 73,
   "metadata": {},
   "outputs": [
    {
     "data": {
      "text/plain": [
       "[5 4 2 0 0 0 0 0]\n",
       "[2 2 0 0 0 0 0 0]\n",
       "[1 0 0 0 0 0 0 0]\n",
       "[0 0 0 0 0 0 0 0]\n",
       "[0 0 0 0 0 0 0 0]\n",
       "[0 0 0 0 0 0 0 0]\n",
       "[0 0 0 0 0 0 0 0]\n",
       "[0 0 0 0 0 0 0 0]"
      ]
     },
     "execution_count": 73,
     "metadata": {},
     "output_type": "execute_result"
    }
   ],
   "source": [
    "k = 3\n",
    "X3^k - X3_0^k"
   ]
  },
  {
   "cell_type": "code",
   "execution_count": null,
   "metadata": {},
   "outputs": [],
   "source": [
    "for n in [1..10] do\n",
    "    M  := [\n",
    "        [1,2,0,0],\n",
    "        [1,1,1,0],\n",
    "        [0,1,0,2],\n",
    "        [0,0,1,2]\n",
    "    ];; \n",
    "    \n",
    "    v0 := [1,0,0,0];;\n",
    "    Mn := M^0;; \n",
    "    vn := v0;;\n",
    "        \n",
    "    for i in [1..n] do \n",
    "        vn := 3^i * v0 + M*vn; \n",
    "    od; \n",
    "    \n",
    "    Print([3,6,6,12]*vn,\", \");\n",
    "od;"
   ]
  },
  {
   "cell_type": "code",
   "execution_count": 30,
   "metadata": {},
   "outputs": [
    {
     "data": {
      "text/plain": [
       "array([[ True,  True,  True,  True,  True,  True,  True,  True,  True],\n",
       "       [ True,  True,  True,  True,  True,  True,  True,  True,  True],\n",
       "       [ True,  True,  True,  True,  True,  True,  True,  True,  True],\n",
       "       [ True,  True,  True,  True,  True,  True,  True,  True,  True],\n",
       "       [ True,  True,  True,  True,  True,  True,  True,  True,  True],\n",
       "       [ True,  True,  True,  True,  True,  True,  True,  True,  True],\n",
       "       [ True,  True,  True,  True,  True,  True,  True,  True,  True],\n",
       "       [ True,  True,  True,  True,  True,  True,  True,  True,  True],\n",
       "       [ True,  True,  True,  True,  True,  True,  True,  True,  True]])"
      ]
     },
     "execution_count": 30,
     "metadata": {},
     "output_type": "execute_result"
    }
   ],
   "source": [
    "def next_s(matrix):\n",
    "    n = matrix.shape[0]\n",
    "    res = np.zeros((3*n, 3*n), dtype='int64')\n",
    "    res[:n, :n] = matrix\n",
    "    res[n:2*n, n:2*n] = matrix\n",
    "    res[2*n:3*n, 2*n: 3*n] = matrix\n",
    "    \n",
    "    # connecions between 1st and 2nd\n",
    "    res[n-1, n-1] -= 1\n",
    "    res[n, n] -= 1                 \n",
    "    res[n, n-1] += 1\n",
    "    res[n-1, n] += 1\n",
    "    \n",
    "    # connections between 2nd and 3rd\n",
    "    res[2*n-1, 2*n-1] -= 1\n",
    "    res[2*n, 2*n] -= 1\n",
    "    res[2*n-1, 2*n] += 1\n",
    "    res[2*n, 2*n-1] += 1\n",
    "    \n",
    "    # connection between 1st and 3rd\n",
    "    res[n//2, n//2] -= 1\n",
    "    res[2*n + n//2, 2*n + n//2] -= 1\n",
    "    res[n//2, 2*n + n//2] += 1\n",
    "    res[2*n + n//2, n//2] += 1\n",
    "    return res\n",
    "\n",
    "test = np.array([\n",
    "    [1, 1, 1],\n",
    "    [1, 1, 1],\n",
    "    [1, 1, 1],\n",
    "])\n",
    "\n",
    "next_s(test) == serp"
   ]
  },
  {
   "cell_type": "code",
   "execution_count": 50,
   "metadata": {},
   "outputs": [
    {
     "data": {
      "image/png": "[encoded data removed]",
      "text/plain": [
       "<Figure size 432x288 with 1 Axes>"
      ]
     },
     "metadata": {},
     "output_type": "display_data"
    }
   ],
   "source": [
    "%matplotlib inline\n",
    "import networkx as nx\n",
    "\n",
    "SS2 = next_s(test)\n",
    "SS3 = next_s(SS2)\n",
    "SS4 = next_s(SS3)\n",
    "SS5 = next_s(SS4)\n",
    "graph = nx.from_numpy_array(SS4)\n",
    "nx.draw_kamada_kawai(graph)"
   ]
  },
  {
   "cell_type": "code",
   "execution_count": 73,
   "metadata": {},
   "outputs": [
    {
     "data": {
      "text/plain": [
       "(x - 3) * (x + 2) * (x - 1/2*tmp - 1/2)^2 * (x + 1/2*tmp - 1/2)^2 * x^3"
      ]
     },
     "execution_count": 73,
     "metadata": {},
     "output_type": "execute_result"
    }
   ],
   "source": [
    "ImagQQ.<tmp> = QQ.extension(x^2 - 13)\n",
    "\n",
    "SS4 = matrix(ImagQQ, SS4)\n",
    "SS3 = matrix(ImagQQ, SS3)\n",
    "SS2 = matrix(ImagQQ, SS2)\n",
    "\n",
    "SS2.charpoly().factor()"
   ]
  },
  {
   "cell_type": "code",
   "execution_count": 74,
   "metadata": {},
   "outputs": [
    {
     "data": {
      "text/plain": [
       "(x - 3) * (x - 1/2*tmp - 1/2)^3 * (x + 1/2*tmp - 1/2)^3 * (x + 2)^4 * x^6 * (x^2 - x - 1) * (x^2 - x - 1/2*tmp - 7/2)^2 * (x^2 - x + 1/2*tmp - 7/2)^2"
      ]
     },
     "execution_count": 74,
     "metadata": {},
     "output_type": "execute_result"
    }
   ],
   "source": [
    "SS3.charpoly().factor()"
   ]
  },
  {
   "cell_type": "code",
   "execution_count": 75,
   "metadata": {},
   "outputs": [
    {
     "data": {
      "text/plain": [
       "(x - 3) * (x - 1/2*tmp - 1/2)^6 * (x + 1/2*tmp - 1/2)^6 * (x + 2)^13 * x^15 * (x^2 - x - 1/2*tmp - 7/2)^3 * (x^2 - x + 1/2*tmp - 7/2)^3 * (x^2 - x - 1)^4 * (x^4 - 2*x^3 - 6*x^2 + 7*x + 11) * (x^4 - 2*x^3 - 6*x^2 + 7*x - 1/2*tmp + 17/2)^2 * (x^4 - 2*x^3 - 6*x^2 + 7*x + 1/2*tmp + 17/2)^2"
      ]
     },
     "execution_count": 75,
     "metadata": {},
     "output_type": "execute_result"
    }
   ],
   "source": [
    "SS4.charpoly().factor()"
   ]
  }
 ],
 "metadata": {
  "kernelspec": {
   "display_name": "SageMath 9.2",
   "language": "sage",
   "name": "sagemath"
  },
  "language_info": {
   "codemirror_mode": {
    "name": "ipython",
    "version": 3
   },
   "file_extension": ".py",
   "mimetype": "text/x-python",
   "name": "python",
   "nbconvert_exporter": "python",
   "pygments_lexer": "ipython3",
   "version": "3.8.5"
  }
 },
 "nbformat": 4,
 "nbformat_minor": 4
}
