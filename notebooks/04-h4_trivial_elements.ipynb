{
 "cells": [
  {
   "cell_type": "code",
   "execution_count": 1,
   "id": "9cd71fde",
   "metadata": {},
   "outputs": [],
   "source": [
    "import sys\n",
    "if '../' not in sys.path: \n",
    "    sys.path.append('../')"
   ]
  },
  {
   "cell_type": "code",
   "execution_count": 2,
   "id": "46cf647e",
   "metadata": {},
   "outputs": [],
   "source": [
    "from autogrp import AutomataGroup, all_words, permute"
   ]
  },
  {
   "cell_type": "code",
   "execution_count": 3,
   "id": "b0b374a6",
   "metadata": {},
   "outputs": [
    {
     "name": "stdout",
     "output_type": "stream",
     "text": [
      "Help on built-in function permute in module _autogrp_cython.tools:\n",
      "\n",
      "permute(...)\n",
      "    Get all the words of letters from the given\n",
      "    space of given length.\n",
      "    \n",
      "    Parameters\n",
      "    ----------\n",
      "    space   : Iterable container of str elements of len 1.\n",
      "    repeat  : int, length of yielded words\n",
      "    allow_same_neighbours : if False then all words that don't have same elements\n",
      "                            on the neighbour positions will be returned and all\n",
      "                            possible words otherwise.\n",
      "                            Default False\n",
      "    Yields\n",
      "    -------\n",
      "    str, result word\n",
      "\n"
     ]
    }
   ],
   "source": [
    "help(permute)"
   ]
  },
  {
   "cell_type": "code",
   "execution_count": 4,
   "id": "83b407bd",
   "metadata": {},
   "outputs": [],
   "source": [
    "G = AutomataGroup.generate_H4()"
   ]
  },
  {
   "cell_type": "code",
   "execution_count": 5,
   "id": "5c270781",
   "metadata": {},
   "outputs": [
    {
     "data": {
      "text/plain": [
       "['a', 'b', 'c', 'd', 'f', 'g']"
      ]
     },
     "execution_count": 5,
     "metadata": {},
     "output_type": "execute_result"
    }
   ],
   "source": [
    "G.alphabet"
   ]
  },
  {
   "cell_type": "code",
   "execution_count": null,
   "id": "8d19a656",
   "metadata": {},
   "outputs": [],
   "source": []
  },
  {
   "cell_type": "code",
   "execution_count": 61,
   "id": "0baa5dc5",
   "metadata": {},
   "outputs": [
    {
     "data": {
      "text/plain": [
       "2"
      ]
     },
     "execution_count": 61,
     "metadata": {},
     "output_type": "execute_result"
    }
   ],
   "source": [
    "G('abfa').order()"
   ]
  },
  {
   "cell_type": "code",
   "execution_count": 62,
   "id": "9a01d1dd",
   "metadata": {},
   "outputs": [
    {
     "data": {
      "text/plain": [
       "H4(abfaabfa = (3) (affa, faaf, baab, abba))"
      ]
     },
     "execution_count": 62,
     "metadata": {},
     "output_type": "execute_result"
    }
   ],
   "source": [
    "G('abfaabfa')"
   ]
  },
  {
   "cell_type": "code",
   "execution_count": 67,
   "id": "fc30d7d3",
   "metadata": {},
   "outputs": [
    {
     "data": {
      "text/plain": [
       "H4(abdabd = (0 2)(1 3) (bdd, abbd, aab, da))"
      ]
     },
     "execution_count": 67,
     "metadata": {},
     "output_type": "execute_result"
    }
   ],
   "source": [
    "G('abdabd')"
   ]
  },
  {
   "cell_type": "code",
   "execution_count": 65,
   "id": "0e093db6",
   "metadata": {},
   "outputs": [
    {
     "data": {
      "text/plain": [
       "H4(agag = (3) (aa, gg, gg, aa))"
      ]
     },
     "execution_count": 65,
     "metadata": {},
     "output_type": "execute_result"
    }
   ],
   "source": [
    "G('agag')"
   ]
  },
  {
   "cell_type": "code",
   "execution_count": 74,
   "id": "91b09b09",
   "metadata": {},
   "outputs": [
    {
     "data": {
      "text/plain": [
       "H4(bbcbbd = (0 1)(2 3) (bbd, bbd, bbcbb, c))"
      ]
     },
     "execution_count": 74,
     "metadata": {},
     "output_type": "execute_result"
    }
   ],
   "source": [
    "G('bbcbbd')"
   ]
  },
  {
   "cell_type": "code",
   "execution_count": 78,
   "id": "ee41e554",
   "metadata": {},
   "outputs": [
    {
     "data": {
      "text/plain": [
       "H4(bcbdbcbdbcbdbcbdbcbdbcbd = (3) (cdcdcdcdcdcd, bbcbbdbbcbbd, bdbbcbbdbbcb, bcbbdbbcbbdb))"
      ]
     },
     "execution_count": 78,
     "metadata": {},
     "output_type": "execute_result"
    }
   ],
   "source": [
    "G('bcbd' * 6)"
   ]
  },
  {
   "cell_type": "code",
   "execution_count": 69,
   "id": "4b8ed20b",
   "metadata": {},
   "outputs": [
    {
     "name": "stdout",
     "output_type": "stream",
     "text": [
      "H4(abaf = (0 1 3) (af, aba, bf, a))\n",
      "H4(abfa = (0 1)(2 3) (fa, af, ab, ba))\n",
      "H4(abgb = (1 2 3) (ag, bgb, ab, b))\n",
      "H4(acad = (0 2 3) (ad, cd, aca, a))\n",
      "H4(acda = (0 2)(1 3) (da, ac, ad, ca))\n",
      "H4(acgc = (1 3 2) (ag, ac, cgc, c))\n",
      "H4(adac = (0 3 1) (a, ada, dc, ac))\n",
      "H4(adca = (0 2)(1 3) (da, ac, ad, ca))\n",
      "H4(adgd = (3)(0 1 2) (d, dgd, ad, ag))\n",
      "H4(afab = (0 3 2) (a, fb, afa, ab))\n",
      "H4(afba = (0 1)(2 3) (fa, af, ab, ba))\n",
      "H4(afgf = (3)(0 2 1) (f, af, fgf, ag))\n",
      "H4(agag = (3) (aa, gg, gg, aa))\n",
      "H4(babg = (0 3 1) (bab, bg, ag, b))\n",
      "H4(bafa = (0 2 3) (afa, bf, ba, a))\n",
      "H4(bagb = (0 1)(2 3) (bg, gb, ba, ab))\n",
      "H4(bcbd = (1 2 3) (cd, bd, bcb, b))\n",
      "H4(bcdb = (0 3)(1 2) (bc, db, bd, cb))\n",
      "H4(bcfc = (0 3 2) (bc, bf, cfc, c))\n",
      "H4(bdbc = (0 1 3) (bdb, b, dc, bc))\n",
      "H4(bdcb = (0 3)(1 2) (bc, db, bd, cb))\n",
      "H4(bdfd = (3)(0 2 1) (dfd, d, bd, bf))\n",
      "H4(bfbf = (3) (ff, bb, ff, bb))\n",
      "H4(bgab = (0 1)(2 3) (bg, gb, ba, ab))\n",
      "H4(bgba = (1 3 2) (ga, b, bgb, ba))\n",
      "H4(bgfg = (3)(0 1 2) (bg, g, gfg, bf))\n",
      "H4(cacg = (0 3 2) (cac, ag, cg, c))\n",
      "H4(cada = (0 1 3) (ada, ca, cd, a))\n",
      "H4(cagc = (0 2)(1 3) (cg, ca, gc, ac))\n",
      "H4(cbcf = (1 3 2) (bf, cbc, cf, c))\n",
      "H4(cbdb = (0 3 1) (cb, bdb, cd, b))\n",
      "H4(cbfc = (0 3)(1 2) (cb, cf, fc, bc))\n",
      "H4(cdcd = (3) (dd, dd, cc, cc))\n",
      "H4(cfbc = (0 3)(1 2) (cb, cf, fc, bc))\n",
      "H4(cfcb = (0 2 3) (cfc, fb, c, cb))\n",
      "H4(cfdf = (3)(0 1 2) (fdf, cf, f, cd))\n",
      "H4(cgac = (0 2)(1 3) (cg, ca, gc, ac))\n",
      "H4(cgca = (1 2 3) (ga, cgc, c, ca))\n",
      "H4(cgdg = (3)(0 2 1) (cg, gdg, g, cd))\n",
      "H4(daca = (0 3 2) (a, dc, da, aca))\n",
      "H4(dadg = (0 1 3) (d, dg, ag, dad))\n",
      "H4(dagd = (0 2)(1 3) (ad, gd, da, dg))\n",
      "H4(dbcb = (1 3 2) (dc, b, db, bcb))\n",
      "H4(dbdf = (0 3 1) (df, d, bf, dbd))\n",
      "H4(dbfd = (0 3)(1 2) (fd, bd, db, df))\n",
      "H4(dcdc = (3) (dd, dd, cc, cc))\n",
      "H4(dfbd = (0 3)(1 2) (fd, bd, db, df))\n",
      "H4(dfcf = (0 2 3) (f, dc, fcf, df))\n",
      "H4(dfdb = (3)(0 1 2) (d, db, dfd, fb))\n",
      "H4(dgad = (0 2)(1 3) (ad, gd, da, dg))\n",
      "H4(dgcg = (1 2 3) (dc, g, gcg, dg))\n",
      "H4(dgda = (3)(0 2 1) (da, d, dgd, ga))\n",
      "H4(faba = (0 3 1) (a, fa, fb, aba))\n",
      "H4(fafg = (0 2 3) (f, ag, fg, faf))\n",
      "H4(fagf = (0 1)(2 3) (af, fa, gf, fg))\n",
      "H4(fbfb = (3) (ff, bb, ff, bb))\n",
      "H4(fcbc = (1 2 3) (fb, fc, c, cbc))\n",
      "H4(fcdf = (0 3)(1 2) (df, fc, cf, fd))\n",
      "H4(fcfd = (0 3 2) (fd, cd, f, fcf))\n",
      "H4(fdbd = (0 1 3) (d, dbd, fb, fd))\n",
      "H4(fdcf = (0 3)(1 2) (df, fc, cf, fd))\n",
      "H4(fdfc = (3)(0 2 1) (f, fdf, fc, dc))\n",
      "H4(fgaf = (0 1)(2 3) (af, fa, gf, fg))\n",
      "H4(fgbg = (1 3 2) (fb, gbg, g, fg))\n",
      "H4(fgfa = (3)(0 1 2) (fa, fgf, f, ga))\n",
      "H4(gaga = (3) (aa, gg, gg, aa))\n",
      "H4(gbab = (0 1 3) (gb, b, ga, bab))\n",
      "H4(gbfg = (0 1)(2 3) (gb, bg, fg, gf))\n",
      "H4(gbgf = (1 2 3) (bf, g, gf, gbg))\n",
      "H4(gcac = (0 2 3) (gc, ga, c, cac))\n",
      "H4(gcdg = (0 2)(1 3) (gc, dg, cg, gd))\n",
      "H4(gcgd = (1 3 2) (cd, gd, g, gcg))\n",
      "H4(gdad = (0 3 1) (dad, d, ga, gd))\n",
      "H4(gdcg = (0 2)(1 3) (gc, dg, cg, gd))\n",
      "H4(gdgc = (3)(0 1 2) (gdg, g, gc, dc))\n",
      "H4(gfaf = (0 3 2) (faf, ga, f, gf))\n",
      "H4(gfbg = (0 1)(2 3) (gb, bg, fg, gf))\n",
      "H4(gfgb = (3)(0 2 1) (gfg, gb, g, fb))\n"
     ]
    }
   ],
   "source": [
    "for el in permute(G.alphabet, repeat=4, allow_same_neighbours=False): \n",
    "    el = G(el)\n",
    "    if el.is_finite(): \n",
    "        print(el)"
   ]
  },
  {
   "cell_type": "code",
   "execution_count": 8,
   "id": "5fc718ed",
   "metadata": {},
   "outputs": [
    {
     "data": {
      "text/plain": [
       "H4(abdabdabdabd = (3) (aabbdd, daabbd, bddaab, abbdda))"
      ]
     },
     "execution_count": 8,
     "metadata": {},
     "output_type": "execute_result"
    }
   ],
   "source": [
    "el ** 4"
   ]
  },
  {
   "cell_type": "code",
   "execution_count": 13,
   "id": "02607dd5",
   "metadata": {},
   "outputs": [
    {
     "name": "stdout",
     "output_type": "stream",
     "text": [
      "Help on method draw in module autogrp.automata:\n",
      "\n",
      "draw(start_x=0, start_y=0, scale=10, radius=4, fontsize=50, save_filename='', show_full=False, y_scale_mul=3, lbn=False, show_names=True) method of autogrp.automata.AutomataTreeNode instance\n",
      "    Draws the tree in matplotlib.\n",
      "    \n",
      "    :param start_x: x coordinate of the start position on the plane\n",
      "    :param start_y: y coordinate of the start position on the plane\n",
      "    :param scale: length of one step of offset.\n",
      "                  Offset is measure of vertices' displacement relative to\n",
      "                  left upper corner. Distance between 2 generation == one\n",
      "                  step of offset.\n",
      "    :param radius: radius of vertices\n",
      "    :param fontsize: size of font (like fontsize in matplotlib.pyplot.text)\n",
      "    :param save_filename: name of file, where it should be save.\n",
      "                          Default == '', means that the picture won't be saved\n",
      "    :param show_full: False if you want elements with attribute 'simplify'\n",
      "                      to draw as just one node with name.\n",
      "    :param y_scale_mul: multiplier of y-axes scale\n",
      "                        It's used for bigger step between generations\n",
      "    :param lbn: leaves belong names, True if you want to print names\n",
      "                of leaves belong them\n",
      "    :param show_names: True if you want to plot the names of vertices\n",
      "\n"
     ]
    }
   ],
   "source": [
    "help(el.tree.draw)"
   ]
  },
  {
   "cell_type": "code",
   "execution_count": 20,
   "id": "4f00831e",
   "metadata": {},
   "outputs": [],
   "source": [
    "from matplotlib import rcParams"
   ]
  },
  {
   "cell_type": "code",
   "execution_count": 23,
   "id": "deac0481",
   "metadata": {},
   "outputs": [],
   "source": [
    "rcParams['savefig.format'] = 'pdf'"
   ]
  },
  {
   "cell_type": "code",
   "execution_count": 58,
   "id": "25dcd89c",
   "metadata": {},
   "outputs": [
    {
     "data": {
      "text/plain": [
       "H4(a = (3)(1 2) (a, e, e, a))"
      ]
     },
     "execution_count": 58,
     "metadata": {},
     "output_type": "execute_result"
    }
   ],
   "source": [
    "G('a')"
   ]
  },
  {
   "cell_type": "code",
   "execution_count": null,
   "id": "9a1eeaf3",
   "metadata": {},
   "outputs": [],
   "source": [
    "def get_trivial_el(): \n",
    "    \n",
    "    res = ''"
   ]
  },
  {
   "cell_type": "code",
   "execution_count": 34,
   "id": "19319c7e",
   "metadata": {},
   "outputs": [
    {
     "data": {
      "text/plain": [
       "H4(abdabdabdabd = (3) (aabbdd, daabbd, bddaab, abbdda))"
      ]
     },
     "execution_count": 34,
     "metadata": {},
     "output_type": "execute_result"
    }
   ],
   "source": [
    "el * el * el * el"
   ]
  },
  {
   "cell_type": "code",
   "execution_count": 28,
   "id": "f96376fc",
   "metadata": {},
   "outputs": [
    {
     "data": {
      "text/plain": [
       "H4(d = (2 3) (d, d, e, e))"
      ]
     },
     "execution_count": 28,
     "metadata": {},
     "output_type": "execute_result"
    }
   ],
   "source": [
    "G('d')"
   ]
  },
  {
   "cell_type": "code",
   "execution_count": 24,
   "id": "2d3e5234",
   "metadata": {},
   "outputs": [
    {
     "data": {
      "image/png": "[encoded data removed]",
      "text/plain": [
       "<Figure size 1440x1440 with 1 Axes>"
      ]
     },
     "metadata": {
      "needs_background": "light"
     },
     "output_type": "display_data"
    }
   ],
   "source": [
    "(el ** 4).show(y_scale_mul=10, scale=12, lbn=True, save_filename='h4_trivial.pdf')"
   ]
  }
 ],
 "metadata": {
  "kernelspec": {
   "display_name": "SageMath 9.7",
   "language": "sage",
   "name": "sagemath-dev"
  },
  "language_info": {
   "codemirror_mode": {
    "name": "ipython",
    "version": 3
   },
   "file_extension": ".py",
   "mimetype": "text/x-python",
   "name": "python",
   "nbconvert_exporter": "python",
   "pygments_lexer": "ipython3",
   "version": "3.8.10"
  }
 },
 "nbformat": 4,
 "nbformat_minor": 5
}
