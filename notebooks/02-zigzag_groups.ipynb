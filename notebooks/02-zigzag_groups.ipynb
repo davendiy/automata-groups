{
 "cells": [
  {
   "cell_type": "code",
   "execution_count": 1,
   "id": "ff956255-9929-4474-88f6-1e36e7c4b9c9",
   "metadata": {},
   "outputs": [],
   "source": [
    "import sys\n",
    "\n",
    "if '../' not in sys.path: \n",
    "    sys.path.append('../')"
   ]
  },
  {
   "cell_type": "code",
   "execution_count": 2,
   "id": "cc08b1d2-77b5-424e-906c-d2f5ada8cc00",
   "metadata": {},
   "outputs": [],
   "source": [
    "from autogrp import AutomataGroup, AutomataGroupElement"
   ]
  },
  {
   "cell_type": "code",
   "execution_count": 3,
   "id": "e5c32c54-117b-46ac-9fa3-6ff981261e77",
   "metadata": {},
   "outputs": [],
   "source": [
    "__counter = 0\n",
    "\n",
    "def random_zigzag_group(size):\n",
    "    global __counter \n",
    "    __counter += 1\n",
    "    perms = [[i, i] for i in range(size)]\n",
    "    atoms = [] \n",
    "\n",
    "    # це я так рандомні транспозиції обираю\n",
    "    for i in range(size-1):\n",
    "        while (pi := sorted([random.randint(0, size-1), \n",
    "                             random.randint(0, size-1)])\n",
    "              ) in perms:\n",
    "            pass \n",
    "        perms.append(pi)\n",
    "        tmp_perm = list(range(size))\n",
    "        tmp_perm[pi[0]] = pi[1]\n",
    "        tmp_perm[pi[1]] = pi[0]\n",
    "        tmp_perm = Permutation(tmp_perm)\n",
    "        si = AutomataGroupElement(f's{i}', tmp_perm, \n",
    "                                  children=tuple('e' for _ in range(size)), \n",
    "                                  is_atom=True)\n",
    "        atoms.append(si)\n",
    "    \n",
    "    sd = AutomataGroupElement(f's{size-1}', \n",
    "                              Permutation(list(range(size))), \n",
    "                              children=tuple(f's{i}' for i in range(size)), \n",
    "                              is_atom=True)\n",
    "    atoms.append(sd)\n",
    "    return AutomataGroup(f\"G#{__counter}\", atoms)\n"
   ]
  }
 ],
 "metadata": {
  "kernelspec": {
   "display_name": "SageMath 10.2",
   "language": "sage",
   "name": "sagemath-10.2"
  },
  "language_info": {
   "codemirror_mode": {
    "name": "ipython",
    "version": 3
   },
   "file_extension": ".py",
   "mimetype": "text/x-python",
   "name": "python",
   "nbconvert_exporter": "python",
   "pygments_lexer": "ipython3",
   "version": "3.11.1"
  }
 },
 "nbformat": 4,
 "nbformat_minor": 5
}
